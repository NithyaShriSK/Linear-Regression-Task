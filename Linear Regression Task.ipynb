{
 "cells": [
  {
   "cell_type": "markdown",
   "id": "e2c78dfc",
   "metadata": {},
   "source": [
    "1.Electricity Bill Prediction\n",
    "A household’s electricity bill depends on the number of units consumed. Data for past 12 months is available.\n",
    " \tTask: Train a regression model to predict the bill if 350 units are consumed. Also, find the fixed charge (intercept) the electricity board adds irrespective of usage."
   ]
  },
  {
   "cell_type": "code",
   "execution_count": 52,
   "id": "cb88f062",
   "metadata": {},
   "outputs": [],
   "source": [
    "import pandas as pd\n",
    "import numpy as np\n",
    "import matplotlib.pyplot as plt\n",
    "from sklearn.linear_model import LinearRegression"
   ]
  },
  {
   "cell_type": "code",
   "execution_count": 53,
   "id": "f2c541f5",
   "metadata": {},
   "outputs": [],
   "source": [
    "df=pd.read_csv(r\"C:\\Users\\ganesh\\OneDrive\\Desktop\\AI Workforce\\Linear Regression Task\\regression_datasets_large.xlsx - Electricity_Bill.csv\")"
   ]
  },
  {
   "cell_type": "code",
   "execution_count": 71,
   "id": "38bc9efd",
   "metadata": {},
   "outputs": [
    {
     "name": "stdout",
     "output_type": "stream",
     "text": [
      "                Units_Consumed  Bill_Amount\n",
      "Units_Consumed        1.000000    -0.049914\n",
      "Bill_Amount          -0.049914     1.000000\n"
     ]
    }
   ],
   "source": [
    "print(df[[\"Units_Consumed\",\"Bill_Amount\"]].corr())   #Correlation is -ve so slope is negative as we increase the units consumed bill amount decreases"
   ]
  },
  {
   "cell_type": "code",
   "execution_count": 54,
   "id": "e18abbc3",
   "metadata": {},
   "outputs": [
    {
     "data": {
      "text/html": [
       "<div>\n",
       "<style scoped>\n",
       "    .dataframe tbody tr th:only-of-type {\n",
       "        vertical-align: middle;\n",
       "    }\n",
       "\n",
       "    .dataframe tbody tr th {\n",
       "        vertical-align: top;\n",
       "    }\n",
       "\n",
       "    .dataframe thead th {\n",
       "        text-align: right;\n",
       "    }\n",
       "</style>\n",
       "<table border=\"1\" class=\"dataframe\">\n",
       "  <thead>\n",
       "    <tr style=\"text-align: right;\">\n",
       "      <th></th>\n",
       "      <th>Month</th>\n",
       "      <th>Units_Consumed</th>\n",
       "      <th>Fixed_Charge</th>\n",
       "      <th>Rate_per_Unit</th>\n",
       "      <th>Peak_Hours_Units</th>\n",
       "      <th>OffPeak_Hours_Units</th>\n",
       "      <th>Customer_Type</th>\n",
       "      <th>Region</th>\n",
       "      <th>Year</th>\n",
       "      <th>Bill_Amount</th>\n",
       "    </tr>\n",
       "  </thead>\n",
       "  <tbody>\n",
       "    <tr>\n",
       "      <th>0</th>\n",
       "      <td>1</td>\n",
       "      <td>152</td>\n",
       "      <td>150</td>\n",
       "      <td>7.0</td>\n",
       "      <td>103</td>\n",
       "      <td>169</td>\n",
       "      <td>Residential</td>\n",
       "      <td>North</td>\n",
       "      <td>2022</td>\n",
       "      <td>1300.5</td>\n",
       "    </tr>\n",
       "    <tr>\n",
       "      <th>1</th>\n",
       "      <td>2</td>\n",
       "      <td>485</td>\n",
       "      <td>150</td>\n",
       "      <td>7.0</td>\n",
       "      <td>199</td>\n",
       "      <td>182</td>\n",
       "      <td>Commercial</td>\n",
       "      <td>North</td>\n",
       "      <td>2023</td>\n",
       "      <td>741.5</td>\n",
       "    </tr>\n",
       "    <tr>\n",
       "      <th>2</th>\n",
       "      <td>3</td>\n",
       "      <td>320</td>\n",
       "      <td>150</td>\n",
       "      <td>7.0</td>\n",
       "      <td>153</td>\n",
       "      <td>70</td>\n",
       "      <td>Residential</td>\n",
       "      <td>East</td>\n",
       "      <td>2023</td>\n",
       "      <td>2782.5</td>\n",
       "    </tr>\n",
       "    <tr>\n",
       "      <th>3</th>\n",
       "      <td>4</td>\n",
       "      <td>156</td>\n",
       "      <td>150</td>\n",
       "      <td>6.5</td>\n",
       "      <td>185</td>\n",
       "      <td>56</td>\n",
       "      <td>Residential</td>\n",
       "      <td>East</td>\n",
       "      <td>2023</td>\n",
       "      <td>735.0</td>\n",
       "    </tr>\n",
       "    <tr>\n",
       "      <th>4</th>\n",
       "      <td>5</td>\n",
       "      <td>121</td>\n",
       "      <td>150</td>\n",
       "      <td>6.0</td>\n",
       "      <td>94</td>\n",
       "      <td>158</td>\n",
       "      <td>Residential</td>\n",
       "      <td>West</td>\n",
       "      <td>2024</td>\n",
       "      <td>689.5</td>\n",
       "    </tr>\n",
       "  </tbody>\n",
       "</table>\n",
       "</div>"
      ],
      "text/plain": [
       "   Month  Units_Consumed  Fixed_Charge  Rate_per_Unit  Peak_Hours_Units  \\\n",
       "0      1             152           150            7.0               103   \n",
       "1      2             485           150            7.0               199   \n",
       "2      3             320           150            7.0               153   \n",
       "3      4             156           150            6.5               185   \n",
       "4      5             121           150            6.0                94   \n",
       "\n",
       "   OffPeak_Hours_Units Customer_Type Region  Year  Bill_Amount  \n",
       "0                  169   Residential  North  2022       1300.5  \n",
       "1                  182    Commercial  North  2023        741.5  \n",
       "2                   70   Residential   East  2023       2782.5  \n",
       "3                   56   Residential   East  2023        735.0  \n",
       "4                  158   Residential   West  2024        689.5  "
      ]
     },
     "execution_count": 54,
     "metadata": {},
     "output_type": "execute_result"
    }
   ],
   "source": [
    "df.head()\n"
   ]
  },
  {
   "cell_type": "code",
   "execution_count": 55,
   "id": "19d0059e",
   "metadata": {},
   "outputs": [
    {
     "data": {
      "image/png": "[encoded data removed]",
      "text/plain": [
       "<Figure size 640x480 with 1 Axes>"
      ]
     },
     "metadata": {},
     "output_type": "display_data"
    }
   ],
   "source": [
    "model=LinearRegression()\n",
    "model.fit(df[[\"Units_Consumed\"]],df[\"Bill_Amount\"])\n",
    "y_pred=model.predict(df[[\"Units_Consumed\"]])\n",
    "plt.scatter(df[\"Units_Consumed\"],df[\"Bill_Amount\"],color=\"red\")\n",
    "plt.plot(df[\"Units_Consumed\"],y_pred,color=\"Blue\")\n",
    "plt.legend([\"Actual Data\",\"Predicted Data\"])\n",
    "plt.xlabel(\"Units Consumed\")\n",
    "plt.ylabel(\"Bill Amount\")\n",
    "plt.title(\"Electricity Bill Prediction\")\n",
    "plt.show()"
   ]
  },
  {
   "cell_type": "code",
   "execution_count": 56,
   "id": "5c8719bb",
   "metadata": {},
   "outputs": [
    {
     "name": "stdout",
     "output_type": "stream",
     "text": [
      "Predicted Bill Amount for 350 units consumed is: 2222.401193105902\n",
      "Intercept: 2376.606689139105\n"
     ]
    },
    {
     "name": "stderr",
     "output_type": "stream",
     "text": [
      "c:\\Users\\ganesh\\OneDrive\\Documents\\anaconda\\Lib\\site-packages\\sklearn\\utils\\validation.py:2739: UserWarning: X does not have valid feature names, but LinearRegression was fitted with feature names\n",
      "  warnings.warn(\n"
     ]
    }
   ],
   "source": [
    "pred_val=model.predict([[350]])\n",
    "print(\"Predicted Bill Amount for 350 units consumed is:\",pred_val[0])\n",
    "print(\"Intercept:\",model.intercept_)"
   ]
  }
 ],
 "metadata": {
  "kernelspec": {
   "display_name": "base",
   "language": "python",
   "name": "python3"
  },
  "language_info": {
   "codemirror_mode": {
    "name": "ipython",
    "version": 3
   },
   "file_extension": ".py",
   "mimetype": "text/x-python",
   "name": "python",
   "nbconvert_exporter": "python",
   "pygments_lexer": "ipython3",
   "version": "3.13.5"
  }
 },
 "nbformat": 4,
 "nbformat_minor": 5
}
